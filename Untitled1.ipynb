{
 "cells": [
  {
   "cell_type": "code",
   "execution_count": 2,
   "metadata": {},
   "outputs": [
    {
     "name": "stdout",
     "output_type": "stream",
     "text": [
      "[ 2 -1  1 -1]\n",
      "[ 4  0  3 -1]\n",
      "[-1  2  5 -1]\n",
      "[[2, -1, 1, -1], [4, 0, 3, -1], [-1, 2, 5, -1]]\n",
      "{(2, -1, 1, -1): {}, (4, 0, 3, -1): {}, (-1, 2, 5, -1): {(-1, -1, 6, 4): {(-1, -1, 7, 5): {(-1, -1, 8, 6): {(20, -1, 9, 7): {(-1, -1, 10, 8): {(-1, -1, 11, 9): {(-1, -1, 12, 10): {(16, -1, 13, 11): {(-1, -1, 14, 12): {(-1, -1, 15, 13): {}}}, (-1, 12, 17, 11): {(-1, -1, 18, 16): {(-1, -1, 19, 17): {}}}}}}}, (32, 8, 21, 7): {(-1, -1, 22, 20): {(-1, -1, 23, 21): {(-1, -1, 24, 22): {(28, -1, 25, 23): {(-1, -1, 26, 24): {(-1, -1, 27, 25): {}}}, (-1, 24, 29, 23): {(-1, -1, 30, 28): {(-1, -1, 31, 29): {}}}}}}}, (36, 20, 33, 7): {(-1, -1, 34, 32): {(-1, -1, 35, 33): {}}}, (52, 32, 37, 7): {(-1, -1, 38, 36): {(-1, -1, 39, 37): {(-1, -1, 40, 38): {(44, -1, 41, 39): {(-1, -1, 42, 40): {(-1, -1, 43, 41): {}}}, (48, 40, 45, 39): {(-1, -1, 46, 44): {(-1, -1, 47, 45): {}}}, (-1, 44, 49, 39): {(-1, -1, 50, 48): {(-1, -1, 51, 49): {}}}}}}}, (56, 36, 53, 7): {(-1, -1, 54, 52): {(-1, -1, 55, 53): {}}}, (-1, 52, 57, 7): {(-1, -1, 58, 56): {(-1, -1, 59, 57): {}}}}}}}}\n"
     ]
    }
   ],
   "source": [
    "import cv2\n",
    "import numpy\n",
    "import json\n",
    "#contour traversal\n",
    "def rec_tree(node):\n",
    "    fchild=node[2]\n",
    "    if fchild==-1:\n",
    "        return {}\n",
    "    tr={}\n",
    "    while(heirarchy[0][fchild][2]!=-1):\n",
    "        tr[tuple(heirarchy[0][fchild])]={}\n",
    "        fchild=heirarchy[0][fchild][0]\n",
    "    for i in tr.keys():\n",
    "        tr[i]=rec_tree(tuple(i,))\n",
    "    return tr\n",
    "\n",
    "\n",
    "# Load the image\n",
    "img = cv2.imread(\"erode.jpg\")\n",
    "\n",
    "# Split out each channel\n",
    "blue, green, red = cv2.split(img)\n",
    "\n",
    "def medianCanny(img, thresh1, thresh2):\n",
    "    median = numpy.median(img)\n",
    "    img = cv2.Canny(img, int(thresh1 * median), int(thresh2 * median))\n",
    "    return img\n",
    "\n",
    "# Run canny edge detection on each channel\n",
    "blue_edges = medianCanny(blue, 0.2, 0.3)\n",
    "green_edges = medianCanny(green, 0.2, 0.3)\n",
    "red_edges = medianCanny(red, 0.2, 0.3)\n",
    "\n",
    "# Join edges back into image\n",
    "edges = blue_edges | green_edges | red_edges\n",
    "\n",
    "# Find the contours\n",
    "cimg,contour,heirarchy = cv2.findContours(edges, cv2.RETR_TREE,cv2.CHAIN_APPROX_SIMPLE)\n",
    "cv2.imwrite('contr.jpg',cimg)\n",
    "#print(len(contour))\n",
    "#print(len(heirarchy))\n",
    "#print(heirarchy)\n",
    "tree={}\n",
    "root=[]\n",
    "leaf=[]\n",
    "parent=[]\n",
    "child=[]\n",
    "visited=[]\n",
    "for i in range(len(heirarchy[0])):\n",
    "    visited.append(0)\n",
    "for i in heirarchy[0]:\n",
    "    if i[0]==-1 and i[1]==-1 and i[2]==-1 :\n",
    "        leaf.append(i)\n",
    "    if i[3]==-1:\n",
    "        root.append(list(i))\n",
    "        print(i)\n",
    "    parent.append(i[3]);\n",
    "    child.append(i[2]);\n",
    "print(root)\n",
    "for i in root:\n",
    "    #make key from root elements\n",
    "    tree[tuple(i)]=rec_tree(i)\n",
    "#jtree=json.dumps(tree)\n",
    "print(tree)\n",
    "\n"
   ]
  },
  {
   "cell_type": "code",
   "execution_count": null,
   "metadata": {},
   "outputs": [],
   "source": []
  }
 ],
 "metadata": {
  "kernelspec": {
   "display_name": "Python 3",
   "language": "python",
   "name": "python3"
  },
  "language_info": {
   "codemirror_mode": {
    "name": "ipython",
    "version": 3
   },
   "file_extension": ".py",
   "mimetype": "text/x-python",
   "name": "python",
   "nbconvert_exporter": "python",
   "pygments_lexer": "ipython3",
   "version": "3.6.6"
  }
 },
 "nbformat": 4,
 "nbformat_minor": 2
}
